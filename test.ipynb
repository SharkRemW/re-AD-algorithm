{
 "cells": [
  {
   "cell_type": "code",
   "execution_count": 1,
   "metadata": {},
   "outputs": [
    {
     "name": "stderr",
     "output_type": "stream",
     "text": [
      "/home/shark/miniforge3/envs/gad_test_c/lib/python3.12/site-packages/pygod/utils/utility.py:186: FutureWarning: You are using `torch.load` with `weights_only=False` (the current default value), which uses the default pickle module implicitly. It is possible to construct malicious pickle data which will execute arbitrary code during unpickling (See https://github.com/pytorch/pytorch/blob/main/SECURITY.md#untrusted-models for more details). In a future release, the default value for `weights_only` will be flipped to `True`. This limits the functions that could be executed during unpickling. Arbitrary objects will no longer be allowed to be loaded via this mode unless they are explicitly allowlisted by the user via `torch.serialization.add_safe_globals`. We recommend you start setting `weights_only=True` for any use case where you don't have full control of the loaded file. Please open an issue on GitHub for any issues related to this experimental feature.\n",
      "  data = torch.load(file_path)\n",
      "/home/shark/miniforge3/envs/gad_test_c/lib/python3.12/site-packages/torch_geometric/sampler/neighbor_sampler.py:61: UserWarning: Using 'NeighborSampler' without a 'pyg-lib' installation is deprecated and will be removed soon. Please install 'pyg-lib' for accelerated neighborhood sampling\n",
      "  warnings.warn(f\"Using '{self.__class__.__name__}' without a \"\n"
     ]
    },
    {
     "name": "stdout",
     "output_type": "stream",
     "text": [
      "training score:  tensor([1740.8672,  917.8134,  341.4017,  ..., 1194.1462,  622.9437,\n",
      "        2881.2761])\n",
      "predict score:  tensor([1489.1364,  813.9673,  298.5081,  ..., 1055.1726,  553.7695,\n",
      "        2564.6584])\n"
     ]
    }
   ],
   "source": [
    "# train a dominant detector\n",
    "from pygod.detector import DOMINANT\n",
    "\n",
    "from pygod.utils import load_data\n",
    "\n",
    "data = load_data('weibo') # in PyG format\n",
    "model = DOMINANT(num_layers=4, epoch=20)  # hyperparameters can be set here\n",
    "model.fit(data)  # input data is a PyG data object\n",
    "\n",
    "# get outlier scores on the training data (transductive setting)\n",
    "score = model.decision_score_\n",
    "print(\"training score: \", score)\n",
    "# predict labels and scores on the testing data (inductive setting)\n",
    "pred, score = model.predict(data, return_score=True)\n",
    "\n",
    "print(\"predict score: \", score)"
   ]
  },
  {
   "cell_type": "code",
   "execution_count": 3,
   "metadata": {},
   "outputs": [
    {
     "name": "stderr",
     "output_type": "stream",
     "text": [
      "/home/shark/miniforge3/envs/gad_test_c/lib/python3.12/site-packages/pygod/utils/utility.py:173: FutureWarning: You are using `torch.load` with `weights_only=False` (the current default value), which uses the default pickle module implicitly. It is possible to construct malicious pickle data which will execute arbitrary code during unpickling (See https://github.com/pytorch/pytorch/blob/main/SECURITY.md#untrusted-models for more details). In a future release, the default value for `weights_only` will be flipped to `True`. This limits the functions that could be executed during unpickling. Arbitrary objects will no longer be allowed to be loaded via this mode unless they are explicitly allowlisted by the user via `torch.serialization.add_safe_globals`. We recommend you start setting `weights_only=True` for any use case where you don't have full control of the loaded file. Please open an issue on GitHub for any issues related to this experimental feature.\n",
      "  data = torch.load(file_path)\n",
      "/home/shark/miniforge3/envs/gad_test_c/lib/python3.12/site-packages/torch_geometric/sampler/neighbor_sampler.py:61: UserWarning: Using 'NeighborSampler' without a 'pyg-lib' installation is deprecated and will be removed soon. Please install 'pyg-lib' for accelerated neighborhood sampling\n",
      "  warnings.warn(f\"Using '{self.__class__.__name__}' without a \"\n"
     ]
    },
    {
     "name": "stdout",
     "output_type": "stream",
     "text": [
      "Training score:  tensor([168.8004,  77.7198,  59.4289,  ..., 100.1070, 103.9973, 351.9234])\n",
      "Predict score:  tensor([167.3499,  77.0197,  59.2666,  ...,  99.1355, 103.0802, 347.6328])\n",
      "AUC Score: 0.8801\n"
     ]
    }
   ],
   "source": [
    "# Import necessary libraries\n",
    "from pygod.detector import CONAD\n",
    "from pygod.utils import load_data\n",
    "from sklearn.metrics import roc_auc_score\n",
    "\n",
    "# Load data in PyG format\n",
    "data = load_data('weibo')\n",
    "\n",
    "# Initialize and train the DOMINANT model\n",
    "model = CONAD()  # Hyperparameters can be set here\n",
    "model.fit(data)  # Input data is a PyG data object\n",
    "\n",
    "# Get outlier scores on the training data (transductive setting)\n",
    "train_score = model.decision_score_\n",
    "print(\"Training score: \", train_score)\n",
    "\n",
    "# Predict labels and scores on the testing data (inductive setting)\n",
    "pred, test_score = model.predict(data, return_score=True)\n",
    "print(\"Predict score: \", test_score)\n",
    "\n",
    "# Extract ground truth labels from the data object\n",
    "y_true = data.y.numpy()  # Ground truth labels (1 for anomalies, 0 for normal)\n",
    "\n",
    "# Compute AUC using sklearn's roc_auc_score\n",
    "auc_score = roc_auc_score(y_true, test_score)\n",
    "print(f\"AUC Score: {auc_score:.4f}\")"
   ]
  },
  {
   "cell_type": "code",
   "execution_count": null,
   "metadata": {},
   "outputs": [],
   "source": []
  }
 ],
 "metadata": {
  "kernelspec": {
   "display_name": "gad_test_c",
   "language": "python",
   "name": "python3"
  },
  "language_info": {
   "codemirror_mode": {
    "name": "ipython",
    "version": 3
   },
   "file_extension": ".py",
   "mimetype": "text/x-python",
   "name": "python",
   "nbconvert_exporter": "python",
   "pygments_lexer": "ipython3",
   "version": "3.12.9"
  }
 },
 "nbformat": 4,
 "nbformat_minor": 2
}
